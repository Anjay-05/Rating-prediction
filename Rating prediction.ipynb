{
 "cells": [
  {
   "cell_type": "code",
   "execution_count": 1,
   "id": "62486418",
   "metadata": {},
   "outputs": [],
   "source": [
    "import numpy as np\n",
    "import pandas as pd\n",
    "\n",
    "import re\n",
    "import nltk\n",
    "from nltk.corpus import stopwords\n",
    "from nltk.stem import PorterStemmer\n",
    "from nltk.tokenize import regexp_tokenize\n",
    "from nltk.tokenize import word_tokenize\n",
    "import matplotlib.pyplot as plt"
   ]
  },
  {
   "cell_type": "code",
   "execution_count": 2,
   "id": "4b8bdd94",
   "metadata": {},
   "outputs": [
    {
     "data": {
      "text/html": [
       "<div>\n",
       "<style scoped>\n",
       "    .dataframe tbody tr th:only-of-type {\n",
       "        vertical-align: middle;\n",
       "    }\n",
       "\n",
       "    .dataframe tbody tr th {\n",
       "        vertical-align: top;\n",
       "    }\n",
       "\n",
       "    .dataframe thead th {\n",
       "        text-align: right;\n",
       "    }\n",
       "</style>\n",
       "<table border=\"1\" class=\"dataframe\">\n",
       "  <thead>\n",
       "    <tr style=\"text-align: right;\">\n",
       "      <th></th>\n",
       "      <th>Unnamed: 0</th>\n",
       "      <th>Reviews</th>\n",
       "      <th>Ratings</th>\n",
       "    </tr>\n",
       "  </thead>\n",
       "  <tbody>\n",
       "    <tr>\n",
       "      <th>0</th>\n",
       "      <td>0</td>\n",
       "      <td>It's mobile is amazing because this phone is b...</td>\n",
       "      <td>5</td>\n",
       "    </tr>\n",
       "    <tr>\n",
       "      <th>1</th>\n",
       "      <td>1</td>\n",
       "      <td>Best smartphone in this price range. I special...</td>\n",
       "      <td>5</td>\n",
       "    </tr>\n",
       "    <tr>\n",
       "      <th>2</th>\n",
       "      <td>2</td>\n",
       "      <td>Camera dcent display Super Audio best proximit...</td>\n",
       "      <td>3</td>\n",
       "    </tr>\n",
       "    <tr>\n",
       "      <th>3</th>\n",
       "      <td>3</td>\n",
       "      <td>I am type Reviews after one month using this p...</td>\n",
       "      <td>5</td>\n",
       "    </tr>\n",
       "    <tr>\n",
       "      <th>4</th>\n",
       "      <td>4</td>\n",
       "      <td>It's a beauty. Superb value for money.Slim, li...</td>\n",
       "      <td>5</td>\n",
       "    </tr>\n",
       "    <tr>\n",
       "      <th>...</th>\n",
       "      <td>...</td>\n",
       "      <td>...</td>\n",
       "      <td>...</td>\n",
       "    </tr>\n",
       "    <tr>\n",
       "      <th>7346</th>\n",
       "      <td>7346</td>\n",
       "      <td>Wow 😳READ MORE</td>\n",
       "      <td>5</td>\n",
       "    </tr>\n",
       "    <tr>\n",
       "      <th>7347</th>\n",
       "      <td>7347</td>\n",
       "      <td>No doubt....The best tp link wifi router with ...</td>\n",
       "      <td>5</td>\n",
       "    </tr>\n",
       "    <tr>\n",
       "      <th>7348</th>\n",
       "      <td>7348</td>\n",
       "      <td>AwesomeREAD MORE</td>\n",
       "      <td>5</td>\n",
       "    </tr>\n",
       "    <tr>\n",
       "      <th>7349</th>\n",
       "      <td>7349</td>\n",
       "      <td>Good productREAD MORE</td>\n",
       "      <td>5</td>\n",
       "    </tr>\n",
       "    <tr>\n",
       "      <th>7350</th>\n",
       "      <td>7350</td>\n",
       "      <td>Not worked as expectedREAD MORE</td>\n",
       "      <td>3</td>\n",
       "    </tr>\n",
       "  </tbody>\n",
       "</table>\n",
       "<p>7351 rows × 3 columns</p>\n",
       "</div>"
      ],
      "text/plain": [
       "      Unnamed: 0                                            Reviews  Ratings\n",
       "0              0  It's mobile is amazing because this phone is b...        5\n",
       "1              1  Best smartphone in this price range. I special...        5\n",
       "2              2  Camera dcent display Super Audio best proximit...        3\n",
       "3              3  I am type Reviews after one month using this p...        5\n",
       "4              4  It's a beauty. Superb value for money.Slim, li...        5\n",
       "...          ...                                                ...      ...\n",
       "7346        7346                                     Wow 😳READ MORE        5\n",
       "7347        7347  No doubt....The best tp link wifi router with ...        5\n",
       "7348        7348                                   AwesomeREAD MORE        5\n",
       "7349        7349                              Good productREAD MORE        5\n",
       "7350        7350                    Not worked as expectedREAD MORE        3\n",
       "\n",
       "[7351 rows x 3 columns]"
      ]
     },
     "execution_count": 2,
     "metadata": {},
     "output_type": "execute_result"
    }
   ],
   "source": [
    "df=pd.read_csv('Rating scraps.csv')\n",
    "df"
   ]
  },
  {
   "cell_type": "code",
   "execution_count": 3,
   "id": "0e7f1fc4",
   "metadata": {},
   "outputs": [
    {
     "data": {
      "text/plain": [
       "(7351, 3)"
      ]
     },
     "execution_count": 3,
     "metadata": {},
     "output_type": "execute_result"
    }
   ],
   "source": [
    "df.shape"
   ]
  },
  {
   "cell_type": "code",
   "execution_count": 4,
   "id": "f3f5fa1c",
   "metadata": {},
   "outputs": [
    {
     "data": {
      "text/plain": [
       "Unnamed: 0    0\n",
       "Reviews       0\n",
       "Ratings       0\n",
       "dtype: int64"
      ]
     },
     "execution_count": 4,
     "metadata": {},
     "output_type": "execute_result"
    }
   ],
   "source": [
    "df.isnull().sum()"
   ]
  },
  {
   "cell_type": "code",
   "execution_count": 5,
   "id": "277e1860",
   "metadata": {},
   "outputs": [
    {
     "data": {
      "text/plain": [
       "5    4729\n",
       "4    1605\n",
       "1     464\n",
       "3     385\n",
       "2     168\n",
       "Name: Ratings, dtype: int64"
      ]
     },
     "execution_count": 5,
     "metadata": {},
     "output_type": "execute_result"
    }
   ],
   "source": [
    "df['Ratings'].value_counts()"
   ]
  },
  {
   "cell_type": "code",
   "execution_count": 6,
   "id": "01c0ec72",
   "metadata": {},
   "outputs": [],
   "source": [
    "df.drop('Unnamed: 0',axis=1,inplace=True)"
   ]
  },
  {
   "cell_type": "code",
   "execution_count": 7,
   "id": "fc49f5f3",
   "metadata": {},
   "outputs": [
    {
     "name": "stderr",
     "output_type": "stream",
     "text": [
      "<ipython-input-7-4f622dcb98f0>:2: SettingWithCopyWarning: \n",
      "A value is trying to be set on a copy of a slice from a DataFrame\n",
      "\n",
      "See the caveats in the documentation: https://pandas.pydata.org/pandas-docs/stable/user_guide/indexing.html#returning-a-view-versus-a-copy\n",
      "  df['Reviews'][i]=df['Reviews'][i][:-9]\n"
     ]
    }
   ],
   "source": [
    "for i in range(len(df)):\n",
    "    df['Reviews'][i]=df['Reviews'][i][:-9]"
   ]
  },
  {
   "cell_type": "code",
   "execution_count": 8,
   "id": "f99cce8c",
   "metadata": {},
   "outputs": [],
   "source": [
    "sw=stopwords.words('english')\n",
    "ps=PorterStemmer()"
   ]
  },
  {
   "cell_type": "code",
   "execution_count": 9,
   "id": "af3d6dff",
   "metadata": {},
   "outputs": [],
   "source": [
    "def clean_text(sample):\n",
    "    sample=sample.lower()\n",
    "    sample=re.sub(\"[^a-zA-z]+\",' ',sample)\n",
    "    sample=sample.split()\n",
    "    sample=[ps.stem(s) for s in sample if s not in sw]\n",
    "    sample=\" \".join(sample)\n",
    "    \n",
    "    return sample"
   ]
  },
  {
   "cell_type": "code",
   "execution_count": 10,
   "id": "9483f010",
   "metadata": {},
   "outputs": [
    {
     "data": {
      "text/html": [
       "<div>\n",
       "<style scoped>\n",
       "    .dataframe tbody tr th:only-of-type {\n",
       "        vertical-align: middle;\n",
       "    }\n",
       "\n",
       "    .dataframe tbody tr th {\n",
       "        vertical-align: top;\n",
       "    }\n",
       "\n",
       "    .dataframe thead th {\n",
       "        text-align: right;\n",
       "    }\n",
       "</style>\n",
       "<table border=\"1\" class=\"dataframe\">\n",
       "  <thead>\n",
       "    <tr style=\"text-align: right;\">\n",
       "      <th></th>\n",
       "      <th>Reviews</th>\n",
       "      <th>Ratings</th>\n",
       "      <th>Cleaned_Review</th>\n",
       "    </tr>\n",
       "  </thead>\n",
       "  <tbody>\n",
       "    <tr>\n",
       "      <th>0</th>\n",
       "      <td>It's mobile is amazing because this phone is b...</td>\n",
       "      <td>5</td>\n",
       "      <td>mobil amaz phone best price bettri good perfor...</td>\n",
       "    </tr>\n",
       "    <tr>\n",
       "      <th>1</th>\n",
       "      <td>Best smartphone in this price range. I special...</td>\n",
       "      <td>5</td>\n",
       "      <td>best smartphon price rang special purchas phon...</td>\n",
       "    </tr>\n",
       "    <tr>\n",
       "      <th>2</th>\n",
       "      <td>Camera dcent display Super Audio best proximit...</td>\n",
       "      <td>3</td>\n",
       "      <td>camera dcent display super audio best proxim s...</td>\n",
       "    </tr>\n",
       "    <tr>\n",
       "      <th>3</th>\n",
       "      <td>I am type Reviews after one month using this p...</td>\n",
       "      <td>5</td>\n",
       "      <td>type review one month use phone write best mob...</td>\n",
       "    </tr>\n",
       "    <tr>\n",
       "      <th>4</th>\n",
       "      <td>It's a beauty. Superb value for money.Slim, li...</td>\n",
       "      <td>5</td>\n",
       "      <td>beauti superb valu money slim light great desi...</td>\n",
       "    </tr>\n",
       "    <tr>\n",
       "      <th>...</th>\n",
       "      <td>...</td>\n",
       "      <td>...</td>\n",
       "      <td>...</td>\n",
       "    </tr>\n",
       "    <tr>\n",
       "      <th>7346</th>\n",
       "      <td>Wow 😳</td>\n",
       "      <td>5</td>\n",
       "      <td>wow</td>\n",
       "    </tr>\n",
       "    <tr>\n",
       "      <th>7347</th>\n",
       "      <td>No doubt....The best tp link wifi router with ...</td>\n",
       "      <td>5</td>\n",
       "      <td>doubt best tp link wifi router perfect price</td>\n",
       "    </tr>\n",
       "    <tr>\n",
       "      <th>7348</th>\n",
       "      <td>Awesome</td>\n",
       "      <td>5</td>\n",
       "      <td>awesom</td>\n",
       "    </tr>\n",
       "    <tr>\n",
       "      <th>7349</th>\n",
       "      <td>Good product</td>\n",
       "      <td>5</td>\n",
       "      <td>good product</td>\n",
       "    </tr>\n",
       "    <tr>\n",
       "      <th>7350</th>\n",
       "      <td>Not worked as expected</td>\n",
       "      <td>3</td>\n",
       "      <td>work expect</td>\n",
       "    </tr>\n",
       "  </tbody>\n",
       "</table>\n",
       "<p>7351 rows × 3 columns</p>\n",
       "</div>"
      ],
      "text/plain": [
       "                                                Reviews  Ratings  \\\n",
       "0     It's mobile is amazing because this phone is b...        5   \n",
       "1     Best smartphone in this price range. I special...        5   \n",
       "2     Camera dcent display Super Audio best proximit...        3   \n",
       "3     I am type Reviews after one month using this p...        5   \n",
       "4     It's a beauty. Superb value for money.Slim, li...        5   \n",
       "...                                                 ...      ...   \n",
       "7346                                              Wow 😳        5   \n",
       "7347  No doubt....The best tp link wifi router with ...        5   \n",
       "7348                                            Awesome        5   \n",
       "7349                                       Good product        5   \n",
       "7350                             Not worked as expected        3   \n",
       "\n",
       "                                         Cleaned_Review  \n",
       "0     mobil amaz phone best price bettri good perfor...  \n",
       "1     best smartphon price rang special purchas phon...  \n",
       "2     camera dcent display super audio best proxim s...  \n",
       "3     type review one month use phone write best mob...  \n",
       "4     beauti superb valu money slim light great desi...  \n",
       "...                                                 ...  \n",
       "7346                                                wow  \n",
       "7347       doubt best tp link wifi router perfect price  \n",
       "7348                                             awesom  \n",
       "7349                                       good product  \n",
       "7350                                        work expect  \n",
       "\n",
       "[7351 rows x 3 columns]"
      ]
     },
     "execution_count": 10,
     "metadata": {},
     "output_type": "execute_result"
    }
   ],
   "source": [
    "df['Cleaned_Review']=df['Reviews'].apply(clean_text)\n",
    "df"
   ]
  },
  {
   "cell_type": "code",
   "execution_count": 12,
   "id": "55cdfede",
   "metadata": {},
   "outputs": [
    {
     "data": {
      "text/plain": [
       "\"It's mobile is amazing because this phone is best on price .bettry is good and performance is very good👍 😊😊😇 and my gf Loved it and I love infinix\""
      ]
     },
     "execution_count": 12,
     "metadata": {},
     "output_type": "execute_result"
    }
   ],
   "source": [
    "df['Reviews'][0]"
   ]
  },
  {
   "cell_type": "code",
   "execution_count": 13,
   "id": "2dc7a712",
   "metadata": {
    "scrolled": true
   },
   "outputs": [
    {
     "data": {
      "text/plain": [
       "'mobil amaz phone best price bettri good perform good gf love love infinix'"
      ]
     },
     "execution_count": 13,
     "metadata": {},
     "output_type": "execute_result"
    }
   ],
   "source": [
    "clean_text(df['Reviews'][0])"
   ]
  },
  {
   "cell_type": "code",
   "execution_count": 14,
   "id": "224899b9",
   "metadata": {},
   "outputs": [],
   "source": [
    "from sklearn.feature_extraction.text import TfidfVectorizer\n",
    "from sklearn.model_selection import train_test_split,cross_val_score\n",
    "from sklearn.svm import SVC\n",
    "from sklearn.tree import DecisionTreeClassifier\n",
    "from sklearn.ensemble import RandomForestClassifier\n",
    "from sklearn.metrics import accuracy_score,classification_report\n",
    "\n",
    "svc=SVC()\n",
    "dtc=DecisionTreeClassifier()\n",
    "rfc=RandomForestClassifier()\n"
   ]
  },
  {
   "cell_type": "code",
   "execution_count": 15,
   "id": "4cac26f4",
   "metadata": {},
   "outputs": [],
   "source": [
    "tfid=TfidfVectorizer()\n",
    "\n",
    "X=tfid.fit_transform(df['Cleaned_Review'])\n",
    "Y=df['Ratings']\n",
    "\n",
    "x_train,x_test,y_train,y_test=train_test_split(X,Y,test_size=0.3)"
   ]
  },
  {
   "cell_type": "code",
   "execution_count": 16,
   "id": "49bd07cd",
   "metadata": {},
   "outputs": [
    {
     "data": {
      "text/plain": [
       "0.9552964042759962"
      ]
     },
     "execution_count": 16,
     "metadata": {},
     "output_type": "execute_result"
    }
   ],
   "source": [
    "\n",
    "svc.fit(x_train,y_train)\n",
    "svc.score(x_train,y_train)"
   ]
  },
  {
   "cell_type": "code",
   "execution_count": 17,
   "id": "b309cf6e",
   "metadata": {},
   "outputs": [
    {
     "name": "stdout",
     "output_type": "stream",
     "text": [
      "Accuracy score : 0.9206708975521306\n",
      "Classification report :               precision    recall  f1-score   support\n",
      "\n",
      "           1       0.93      0.86      0.89       146\n",
      "           2       1.00      0.72      0.84        53\n",
      "           3       1.00      0.74      0.85       102\n",
      "           4       0.96      0.78      0.86       458\n",
      "           5       0.90      0.99      0.95      1447\n",
      "\n",
      "    accuracy                           0.92      2206\n",
      "   macro avg       0.96      0.82      0.88      2206\n",
      "weighted avg       0.93      0.92      0.92      2206\n",
      "\n"
     ]
    }
   ],
   "source": [
    "y_pred=svc.predict(x_test)\n",
    "print(\"Accuracy score :\",accuracy_score(y_test,y_pred))\n",
    "print(\"Classification report :\",classification_report(y_test,y_pred))"
   ]
  },
  {
   "cell_type": "code",
   "execution_count": 18,
   "id": "c5dd39fe",
   "metadata": {},
   "outputs": [
    {
     "data": {
      "text/plain": [
       "0.9652089407191448"
      ]
     },
     "execution_count": 18,
     "metadata": {},
     "output_type": "execute_result"
    }
   ],
   "source": [
    "#Decision tree\n",
    "dtc.fit(x_train,y_train)\n",
    "dtc.score(x_train,y_train)"
   ]
  },
  {
   "cell_type": "code",
   "execution_count": 19,
   "id": "42495cf2",
   "metadata": {},
   "outputs": [
    {
     "name": "stdout",
     "output_type": "stream",
     "text": [
      "Accuracy score : 0.9465095194922938\n",
      "Classification report :               precision    recall  f1-score   support\n",
      "\n",
      "           1       0.91      0.94      0.93       146\n",
      "           2       0.92      0.83      0.87        53\n",
      "           3       0.96      0.97      0.97       102\n",
      "           4       0.97      0.83      0.90       458\n",
      "           5       0.94      0.99      0.96      1447\n",
      "\n",
      "    accuracy                           0.95      2206\n",
      "   macro avg       0.94      0.91      0.92      2206\n",
      "weighted avg       0.95      0.95      0.95      2206\n",
      "\n"
     ]
    }
   ],
   "source": [
    "preddtc=dtc.predict(x_test)\n",
    "print('Accuracy score :',accuracy_score(y_test,preddtc))\n",
    "print('Classification report :',classification_report(y_test,preddtc))"
   ]
  },
  {
   "cell_type": "code",
   "execution_count": 20,
   "id": "0c611993",
   "metadata": {},
   "outputs": [
    {
     "data": {
      "text/plain": [
       "0.9652089407191448"
      ]
     },
     "execution_count": 20,
     "metadata": {},
     "output_type": "execute_result"
    }
   ],
   "source": [
    "#Random forest\n",
    "rfc.fit(x_train,y_train)\n",
    "rfc.score(x_train,y_train)"
   ]
  },
  {
   "cell_type": "code",
   "execution_count": 21,
   "id": "72f58b68",
   "metadata": {},
   "outputs": [
    {
     "name": "stdout",
     "output_type": "stream",
     "text": [
      "Accuracy score : 0.9465095194922938\n",
      "Classification report :               precision    recall  f1-score   support\n",
      "\n",
      "           1       0.94      0.92      0.93       146\n",
      "           2       0.92      0.83      0.87        53\n",
      "           3       0.99      0.97      0.98       102\n",
      "           4       0.98      0.83      0.90       458\n",
      "           5       0.94      0.99      0.96      1447\n",
      "\n",
      "    accuracy                           0.95      2206\n",
      "   macro avg       0.95      0.91      0.93      2206\n",
      "weighted avg       0.95      0.95      0.95      2206\n",
      "\n"
     ]
    }
   ],
   "source": [
    "predrfc=rfc.predict(x_test)\n",
    "print('Accuracy score :',accuracy_score(y_test,predrfc))\n",
    "print('Classification report :',classification_report(y_test,predrfc))"
   ]
  },
  {
   "cell_type": "markdown",
   "id": "f9f6f7de",
   "metadata": {},
   "source": [
    "Random forest model is the best model with accuracy score of 94.65%"
   ]
  },
  {
   "cell_type": "code",
   "execution_count": null,
   "id": "f11111e0",
   "metadata": {},
   "outputs": [],
   "source": []
  }
 ],
 "metadata": {
  "kernelspec": {
   "display_name": "Python 3",
   "language": "python",
   "name": "python3"
  },
  "language_info": {
   "codemirror_mode": {
    "name": "ipython",
    "version": 3
   },
   "file_extension": ".py",
   "mimetype": "text/x-python",
   "name": "python",
   "nbconvert_exporter": "python",
   "pygments_lexer": "ipython3",
   "version": "3.8.8"
  }
 },
 "nbformat": 4,
 "nbformat_minor": 5
}
