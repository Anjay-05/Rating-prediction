{
 "cells": [
  {
   "cell_type": "code",
   "execution_count": 77,
   "id": "3de78d2a",
   "metadata": {},
   "outputs": [],
   "source": [
    "#importing libraries\n",
    "import pandas as pd\n",
    "import time\n",
    "from selenium import webdriver\n",
    "from bs4 import BeautifulSoup\n",
    "from selenium.common.exceptions import NoSuchElementException as e\n",
    "import requests"
   ]
  },
  {
   "cell_type": "code",
   "execution_count": 166,
   "id": "f39e05b7",
   "metadata": {},
   "outputs": [
    {
     "name": "stderr",
     "output_type": "stream",
     "text": [
      "<ipython-input-166-8c827ff80567>:1: DeprecationWarning: executable_path has been deprecated, please pass in a Service object\n",
      "  driver=webdriver.Chrome(r\"C:\\Users\\user\\Downloads\\chromedriver_win32\\chromedriver.exe\")\n",
      "<ipython-input-166-8c827ff80567>:6: DeprecationWarning: find_element_by_* commands are deprecated. Please use find_element() instead\n",
      "  cls=driver.find_element_by_xpath('//div[@class=\"_2QfC02\"]/button')\n",
      "<ipython-input-166-8c827ff80567>:14: DeprecationWarning: find_element_by_* commands are deprecated. Please use find_element() instead\n",
      "  search_bar=driver.find_element_by_xpath('//input[@class=\"_3704LK\"]')\n",
      "<ipython-input-166-8c827ff80567>:17: DeprecationWarning: find_element_by_* commands are deprecated. Please use find_element() instead\n",
      "  search_btn=driver.find_element_by_xpath('//button[@class=\"L0Z3Pu\"]')\n",
      "<ipython-input-166-8c827ff80567>:23: DeprecationWarning: find_elements_by_* commands are deprecated. Please use find_elements() instead\n",
      "  pageurl=driver.find_elements_by_xpath('//nav[@class=\"yFHi8N\"]/a')\n",
      "<ipython-input-166-8c827ff80567>:27: DeprecationWarning: find_elements_by_* commands are deprecated. Please use find_elements() instead\n",
      "  urls=driver.find_elements_by_xpath('//a[@class=\"_1fQZEK\"]')\n",
      "<ipython-input-166-8c827ff80567>:29: DeprecationWarning: find_elements_by_* commands are deprecated. Please use find_elements() instead\n",
      "  urls=driver.find_elements_by_xpath('//a[@class=\"s1Q9rs\"]')\n"
     ]
    }
   ],
   "source": [
    "    driver=webdriver.Chrome(r\"C:\\Users\\user\\Downloads\\chromedriver_win32\\chromedriver.exe\")\n",
    "    #Getting the web page\n",
    "    driver.get('https://www.flipkart.com/')\n",
    "\n",
    "    time.sleep(2)\n",
    "    cls=driver.find_element_by_xpath('//div[@class=\"_2QfC02\"]/button')\n",
    "    cls.click()\n",
    "    \n",
    "    Review=[]\n",
    "    Rating=[]\n",
    "    Item=['Mobile','Laptop','Headphones','Smart watches','Monitor','Printer','Professional camera','Home theater','Router']\n",
    "    \n",
    "    for item in Item:\n",
    "        search_bar=driver.find_element_by_xpath('//input[@class=\"_3704LK\"]')\n",
    "        search_bar.clear()\n",
    "        search_bar.send_keys(item)\n",
    "        search_btn=driver.find_element_by_xpath('//button[@class=\"L0Z3Pu\"]')\n",
    "        search_btn.click()\n",
    "        time.sleep(2)\n",
    "        Urls=[]\n",
    "        Pageurl=[]\n",
    "        #page URLS\n",
    "        pageurl=driver.find_elements_by_xpath('//nav[@class=\"yFHi8N\"]/a')\n",
    "        for i in pageurl:\n",
    "            Pageurl.append(i.get_attribute('href'))\n",
    "        #Items URLS\n",
    "        urls=driver.find_elements_by_xpath('//a[@class=\"_1fQZEK\"]')\n",
    "        if len(urls)==0:\n",
    "            urls=driver.find_elements_by_xpath('//a[@class=\"s1Q9rs\"]')\n",
    "        for i in urls:\n",
    "            Urls.append(i.get_attribute('href'))\n",
    "\n",
    "        for page in Pageurl[:3]:\n",
    "            driver.get(page)\n",
    "            time.sleep(3)\n",
    "            for j in Urls:\n",
    "                    driver.get(j)\n",
    "                    time.sleep(3)\n",
    "                    page=requests.get(driver.current_url)\n",
    "                    bs=BeautifulSoup(page.content)\n",
    "\n",
    "                    rate=bs.find_all('div',class_=[\"_3LWZlK _1BLPMq\",\"_3LWZlK _1rdVr6 _1BLPMq\",\"_3LWZlK _32lA32 _1BLPMq\"])\n",
    "                    for i in rate:\n",
    "                        Rating.append(i.text)\n",
    "\n",
    "                    review=bs.find_all('div',class_=\"t-ZTKy\")\n",
    "                    for i in review:\n",
    "                        Review.append(i.text)\n"
   ]
  },
  {
   "cell_type": "code",
   "execution_count": 167,
   "id": "659dfaa4",
   "metadata": {},
   "outputs": [
    {
     "data": {
      "text/plain": [
       "7351"
      ]
     },
     "execution_count": 167,
     "metadata": {},
     "output_type": "execute_result"
    }
   ],
   "source": [
    "len(Rating)"
   ]
  },
  {
   "cell_type": "code",
   "execution_count": 168,
   "id": "736cb054",
   "metadata": {},
   "outputs": [
    {
     "data": {
      "text/plain": [
       "7351"
      ]
     },
     "execution_count": 168,
     "metadata": {},
     "output_type": "execute_result"
    }
   ],
   "source": [
    "len(Review)"
   ]
  },
  {
   "cell_type": "code",
   "execution_count": 169,
   "id": "60cce92e",
   "metadata": {},
   "outputs": [
    {
     "data": {
      "text/html": [
       "<div>\n",
       "<style scoped>\n",
       "    .dataframe tbody tr th:only-of-type {\n",
       "        vertical-align: middle;\n",
       "    }\n",
       "\n",
       "    .dataframe tbody tr th {\n",
       "        vertical-align: top;\n",
       "    }\n",
       "\n",
       "    .dataframe thead th {\n",
       "        text-align: right;\n",
       "    }\n",
       "</style>\n",
       "<table border=\"1\" class=\"dataframe\">\n",
       "  <thead>\n",
       "    <tr style=\"text-align: right;\">\n",
       "      <th></th>\n",
       "      <th>Reviews</th>\n",
       "      <th>Ratings</th>\n",
       "    </tr>\n",
       "  </thead>\n",
       "  <tbody>\n",
       "    <tr>\n",
       "      <th>0</th>\n",
       "      <td>It's mobile is amazing because this phone is b...</td>\n",
       "      <td>5</td>\n",
       "    </tr>\n",
       "    <tr>\n",
       "      <th>1</th>\n",
       "      <td>Best smartphone in this price range. I special...</td>\n",
       "      <td>5</td>\n",
       "    </tr>\n",
       "    <tr>\n",
       "      <th>2</th>\n",
       "      <td>Camera dcent display Super Audio best proximit...</td>\n",
       "      <td>3</td>\n",
       "    </tr>\n",
       "    <tr>\n",
       "      <th>3</th>\n",
       "      <td>I am type Reviews after one month using this p...</td>\n",
       "      <td>5</td>\n",
       "    </tr>\n",
       "    <tr>\n",
       "      <th>4</th>\n",
       "      <td>It's a beauty. Superb value for money.Slim, li...</td>\n",
       "      <td>5</td>\n",
       "    </tr>\n",
       "    <tr>\n",
       "      <th>...</th>\n",
       "      <td>...</td>\n",
       "      <td>...</td>\n",
       "    </tr>\n",
       "    <tr>\n",
       "      <th>7346</th>\n",
       "      <td>Wow 😳READ MORE</td>\n",
       "      <td>5</td>\n",
       "    </tr>\n",
       "    <tr>\n",
       "      <th>7347</th>\n",
       "      <td>No doubt....The best tp link wifi router with ...</td>\n",
       "      <td>5</td>\n",
       "    </tr>\n",
       "    <tr>\n",
       "      <th>7348</th>\n",
       "      <td>AwesomeREAD MORE</td>\n",
       "      <td>5</td>\n",
       "    </tr>\n",
       "    <tr>\n",
       "      <th>7349</th>\n",
       "      <td>Good productREAD MORE</td>\n",
       "      <td>5</td>\n",
       "    </tr>\n",
       "    <tr>\n",
       "      <th>7350</th>\n",
       "      <td>Not worked as expectedREAD MORE</td>\n",
       "      <td>3</td>\n",
       "    </tr>\n",
       "  </tbody>\n",
       "</table>\n",
       "<p>7351 rows × 2 columns</p>\n",
       "</div>"
      ],
      "text/plain": [
       "                                                Reviews Ratings\n",
       "0     It's mobile is amazing because this phone is b...       5\n",
       "1     Best smartphone in this price range. I special...       5\n",
       "2     Camera dcent display Super Audio best proximit...       3\n",
       "3     I am type Reviews after one month using this p...       5\n",
       "4     It's a beauty. Superb value for money.Slim, li...       5\n",
       "...                                                 ...     ...\n",
       "7346                                     Wow 😳READ MORE       5\n",
       "7347  No doubt....The best tp link wifi router with ...       5\n",
       "7348                                   AwesomeREAD MORE       5\n",
       "7349                              Good productREAD MORE       5\n",
       "7350                    Not worked as expectedREAD MORE       3\n",
       "\n",
       "[7351 rows x 2 columns]"
      ]
     },
     "execution_count": 169,
     "metadata": {},
     "output_type": "execute_result"
    }
   ],
   "source": [
    "df=pd.DataFrame({\"Reviews\":Review,\"Ratings\":Rating})\n",
    "df"
   ]
  },
  {
   "cell_type": "code",
   "execution_count": 170,
   "id": "938e8838",
   "metadata": {},
   "outputs": [],
   "source": [
    "df.to_csv('Rating scraps.csv')"
   ]
  },
  {
   "cell_type": "code",
   "execution_count": null,
   "id": "93e305bd",
   "metadata": {},
   "outputs": [],
   "source": []
  }
 ],
 "metadata": {
  "kernelspec": {
   "display_name": "Python 3",
   "language": "python",
   "name": "python3"
  },
  "language_info": {
   "codemirror_mode": {
    "name": "ipython",
    "version": 3
   },
   "file_extension": ".py",
   "mimetype": "text/x-python",
   "name": "python",
   "nbconvert_exporter": "python",
   "pygments_lexer": "ipython3",
   "version": "3.8.8"
  }
 },
 "nbformat": 4,
 "nbformat_minor": 5
}
